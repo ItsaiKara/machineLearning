{
 "cells": [
  {
   "cell_type": "markdown",
   "metadata": {},
   "source": [
    "# Portfolio"
   ]
  },
  {
   "cell_type": "code",
   "execution_count": 315,
   "metadata": {},
   "outputs": [],
   "source": [
    "#importing\n",
    "import numpy as np\n",
    "import matplotlib.pyplot as plt"
   ]
  },
  {
   "cell_type": "code",
   "execution_count": 316,
   "metadata": {},
   "outputs": [],
   "source": [
    " #simple sigmoid function\n",
    "def sigmoid(x):\n",
    "    return 1.0 / (1 + np.exp(-x))\n",
    "\n",
    "#sigmoid derivative for backpropagation\n",
    "def sigDeriv(x):\n",
    "    return x * (1 - x )"
   ]
  },
  {
   "cell_type": "code",
   "execution_count": 365,
   "metadata": {},
   "outputs": [],
   "source": [
    "#Number of iterations of the algorithm\n",
    "nbIteration = 20000\n",
    "#Number of inputs in the network\n",
    "nbInputs = 4\n",
    "#Number of hidden neurons\n",
    "nbHiddenNeur = 4\n",
    "# Number of outputs\n",
    "nbOutputs = 1\n",
    "#Learning rate (used to update weights)\n",
    "lr = 0.05\n",
    "np.random.seed(1)"
   ]
  },
  {
   "cell_type": "code",
   "execution_count": 366,
   "metadata": {},
   "outputs": [],
   "source": [
    "#Initializing the network\n",
    "def initNetwork(nbInputs, nbHiddenNeur, nbOutputs):\n",
    "    #Weights hiddenLayer    \n",
    "    hLayer = 2 * np.random.rand(16,1) - 1\n",
    "    #weights output layer\n",
    "    outputLayer = 2 * np.random.rand(4,1) - 1\n",
    "    #bias\n",
    "    biasHidden = 2 * np.random.rand(4,1) - 1\n",
    "    biasOut = 2 * np.random.rand(1,1) - 1\n",
    "    \n",
    "    return hLayer, outputLayer , biasHidden , biasOut"
   ]
  },
  {
   "cell_type": "code",
   "execution_count": 367,
   "metadata": {},
   "outputs": [
    {
     "data": {
      "text/plain": [
       "array([[-0.1653904 ],\n",
       "       [ 0.11737966],\n",
       "       [-0.71922612],\n",
       "       [-0.60379702]])"
      ]
     },
     "execution_count": 367,
     "metadata": {},
     "output_type": "execute_result"
    }
   ],
   "source": [
    "weight_hLayer, weight_outputLayer, biasHidden, biasOut = initNetwork(nbInputs, nbHiddenNeur, nbOutputs)\n",
    "weight_outputLayer"
   ]
  },
  {
   "cell_type": "code",
   "execution_count": 368,
   "metadata": {},
   "outputs": [],
   "source": [
    "#Defining inputs and expected outputs\n",
    "#inputs\n",
    "inputs = np.array([\n",
    "    [0,0,0,0],\n",
    "    [0,0,0,1],\n",
    "    [0,0,1,0],\n",
    "    [0,0,1,1],\n",
    "    [0,1,0,0],\n",
    "    [0,1,0,1],\n",
    "    [0,1,1,0],\n",
    "    [0,1,1,1],\n",
    "    [1,0,0,0],\n",
    "    [1,0,0,1],\n",
    "    [1,0,1,0],\n",
    "    [1,0,1,1],\n",
    "    [1,1,0,0],\n",
    "    [1,1,0,1],\n",
    "    [1,1,1,0],\n",
    "    [1,1,1,1],\n",
    "    ])\n",
    "#expected outputs\n",
    "expectedOutputs = np.array([[0,0,0,1,0,1,1,0,0,1,1,0,1,0,0,1]]).T"
   ]
  },
  {
   "cell_type": "code",
   "execution_count": 369,
   "metadata": {},
   "outputs": [
    {
     "data": {
      "text/plain": [
       "array([[-0.16595599],\n",
       "       [ 0.44064899],\n",
       "       [-0.99977125],\n",
       "       [-0.39533485],\n",
       "       [-0.70648822],\n",
       "       [-0.81532281],\n",
       "       [-0.62747958],\n",
       "       [-0.30887855],\n",
       "       [-0.20646505],\n",
       "       [ 0.07763347],\n",
       "       [-0.16161097],\n",
       "       [ 0.370439  ],\n",
       "       [-0.5910955 ],\n",
       "       [ 0.75623487],\n",
       "       [-0.94522481],\n",
       "       [ 0.34093502]])"
      ]
     },
     "execution_count": 369,
     "metadata": {},
     "output_type": "execute_result"
    }
   ],
   "source": [
    "weight_hLayer"
   ]
  },
  {
   "cell_type": "code",
   "execution_count": 389,
   "metadata": {},
   "outputs": [],
   "source": [
    "def fit( inputs, expectedOutputs, epoch = 1000):\n",
    "    out = []\n",
    "    outout = []\n",
    "    ct = 0\n",
    "    for i in range (4):\n",
    "        out.append(sigmoid(biasHidden[i] + np.dot(inputs, weight_hLayer[0:4])))\n",
    "        ct = ct + 4\n",
    "    ct = 0\n",
    "    tmp = np.empty([16,4])\n",
    "    #converting the arrays to something usable\n",
    "    for i in range (16):\n",
    "        for j in range (4):\n",
    "            tmp[i][j] = out[j][i]\n",
    "    for i in range (16): \n",
    "        outout.append(sigmoid(biasOut[0] + np.dot(tmp[i], weight_outputLayer)))\n",
    "    #clearing the array\n",
    "    for el in range (16):\n",
    "        outout[el] = float(outout[el]) \n",
    "    return out,outout"
   ]
  },
  {
   "cell_type": "code",
   "execution_count": 390,
   "metadata": {},
   "outputs": [
    {
     "name": "stdout",
     "output_type": "stream",
     "text": [
      "[array([[0.64599692],\n",
      "       [0.55135681],\n",
      "       [0.40172515],\n",
      "       [0.31139256],\n",
      "       [0.73926235],\n",
      "       [0.65628973],\n",
      "       [0.51059013],\n",
      "       [0.41266288],\n",
      "       [0.60719416],\n",
      "       [0.51004822],\n",
      "       [0.36256741],\n",
      "       [0.2769637 ],\n",
      "       [0.70603044],\n",
      "       [0.61794793],\n",
      "       [0.46914199],\n",
      "       [0.37310388]]), array([[0.71839682],\n",
      "       [0.6320888 ],\n",
      "       [0.48419324],\n",
      "       [0.38732204],\n",
      "       [0.79853645],\n",
      "       [0.72747262],\n",
      "       [0.59324608],\n",
      "       [0.49551663],\n",
      "       [0.68364357],\n",
      "       [0.59272268],\n",
      "       [0.44294852],\n",
      "       [0.34874984],\n",
      "       [0.77051406],\n",
      "       [0.69336135],\n",
      "       [0.55266515],\n",
      "       [0.45415662]]), array([[0.40777969],\n",
      "       [0.3168066 ],\n",
      "       [0.20214802],\n",
      "       [0.14575913],\n",
      "       [0.51686793],\n",
      "       [0.41876688],\n",
      "       [0.28246362],\n",
      "       [0.20955518],\n",
      "       [0.36839519],\n",
      "       [0.2820243 ],\n",
      "       [0.17669831],\n",
      "       [0.12628492],\n",
      "       [0.4754052 ],\n",
      "       [0.37900032],\n",
      "       [0.25007171],\n",
      "       [0.18338728]]), array([[0.59499299],\n",
      "       [0.49732762],\n",
      "       [0.35089077],\n",
      "       [0.26688967],\n",
      "       [0.695359  ],\n",
      "       [0.60586396],\n",
      "       [0.45649106],\n",
      "       [0.36128023],\n",
      "       [0.55445546],\n",
      "       [0.45595307],\n",
      "       [0.31408674],\n",
      "       [0.23569707],\n",
      "       [0.65911171],\n",
      "       [0.56562015],\n",
      "       [0.41570429],\n",
      "       [0.32393028]])]\n",
      "\n",
      "[0.5194204723807513, 0.5517250452978228, 0.5952987694466503, 0.6179272589685403, 0.48316704771047875, 0.5156493457086889, 0.5644355591867654, 0.5923850610160083, 0.5331667429676817, 0.5646000233384723, 0.6054140474631287, 0.62592323578695, 0.49663924941449156, 0.5294298113366651, 0.5766897960551313, 0.6027398187513344]\n"
     ]
    }
   ],
   "source": [
    "a,output = fit(inputs, expectedOutputs)\n",
    "print(a)\n",
    "print(\"\")\n",
    "print(output)"
   ]
  },
  {
   "cell_type": "code",
   "execution_count": 397,
   "metadata": {},
   "outputs": [],
   "source": [
    "#Calculate the error\n",
    "error = np.empty([16])\n",
    "for i in range (16):\n",
    "    error[i] = (output[i] - expectedOutputs[i]) * sigDeriv(output[i])"
   ]
  },
  {
   "cell_type": "code",
   "execution_count": 398,
   "metadata": {},
   "outputs": [
    {
     "data": {
      "text/plain": [
       "array([ 0.12965922,  0.13645513,  0.14341827, -0.09020476,  0.12065486,\n",
       "       -0.12096905, -0.10708267,  0.14304026,  0.13270518, -0.107033  ,\n",
       "       -0.0942618 ,  0.14655576, -0.1258345 ,  0.13189891,  0.14078075,\n",
       "       -0.09512178])"
      ]
     },
     "execution_count": 398,
     "metadata": {},
     "output_type": "execute_result"
    }
   ],
   "source": [
    "error"
   ]
  },
  {
   "cell_type": "markdown",
   "metadata": {},
   "source": [
    "Sources: \n",
    "https://www.pyimagesearch.com/2021/05/06/backpropagation-from-scratch-with-python/\n",
    "\n",
    "https://pub.towardsai.net/building-neural-networks-with-python-code-and-math-in-detail-ii-bbe8accbf3d1\n",
    "\n",
    "https://github.com/pragyaarora/Backpropagation/blob/master/MultiLayerPerceptron.py\n",
    "\n",
    "https://www.youtube.com/watch?v=Py4xvZx-A1E&t=0s"
   ]
  },
  {
   "cell_type": "code",
   "execution_count": null,
   "metadata": {},
   "outputs": [],
   "source": []
  }
 ],
 "metadata": {
  "kernelspec": {
   "display_name": "Python 3",
   "language": "python",
   "name": "python3"
  },
  "language_info": {
   "codemirror_mode": {
    "name": "ipython",
    "version": 3
   },
   "file_extension": ".py",
   "mimetype": "text/x-python",
   "name": "python",
   "nbconvert_exporter": "python",
   "pygments_lexer": "ipython3",
   "version": "3.8.1"
  }
 },
 "nbformat": 4,
 "nbformat_minor": 4
}
