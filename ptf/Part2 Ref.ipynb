{
 "cells": [
  {
   "cell_type": "code",
   "execution_count": 10,
   "metadata": {},
   "outputs": [],
   "source": [
    "import numpy as np\n",
    "import matplotlib.pyplot as plt\n",
    "from numpy import sqrt "
   ]
  },
  {
   "cell_type": "code",
   "execution_count": 11,
   "metadata": {},
   "outputs": [],
   "source": [
    "#utils\n",
    "def Sqr(a):\n",
    "    return a*a\n",
    " \n",
    "def Distance(x1,y1,x2,y2):\n",
    "    return sqrt(Sqr(y2-y1)+Sqr(x2-x1))"
   ]
  },
  {
   "cell_type": "code",
   "execution_count": 12,
   "metadata": {},
   "outputs": [],
   "source": [
    "fileToOpen = \"p01.txt\"\n",
    "\n",
    "m = 0\n",
    "n = 0\n",
    "t = 0"
   ]
  },
  {
   "cell_type": "code",
   "execution_count": 20,
   "metadata": {},
   "outputs": [
    {
     "name": "stdout",
     "output_type": "stream",
     "text": [
      "4 50 4\n"
     ]
    }
   ],
   "source": [
    "ct = 0\n",
    "with open(fileToOpen) as fin:\n",
    "    rows = (line.split() for line in fin)\n",
    "    for row in rows:\n",
    "        if ct == 0:\n",
    "            m = int(row[0])\n",
    "            n = int(row[1])\n",
    "            t = int(row[2])\n",
    "            tmp = np.zeros([int(t),2])\n",
    "            depotz = np.zeros([t, 5])\n",
    "            customerz = np.zeros([n,5])\n",
    "        elif ct > 0 and ct <= t:\n",
    "            for depot in tmp:\n",
    "                tmp[ct-1] = (row[0],row[1])\n",
    "        elif ct >= t+1 and ct <= n+t:\n",
    "            for element in range(n):\n",
    "                a = n+t+1\n",
    "                customerz[ct-a] = (row[0],row[1],row[2],row[3],row[4])\n",
    "        elif ct > t+n:\n",
    "            a = n+t+1\n",
    "            for element in range(t):\n",
    "                mdr = tmp[element][0]\n",
    "                mlv = tmp[element][1]\n",
    "                depotz[ct-a] = (row[0],row[1],row[2],mdr,mlv)\n",
    "        ct = ct + 1\n",
    "                \n",
    "print (str(m) +\" \"+ str(n) +\" \"+ str(t) )\n",
    "\n",
    "vehiclesMxW = depotz[0][4]\n",
    "nbVehicles = 16 #np.random.randint(t, m*t)  #aka number of routes\n",
    "indivPerGen = 100"
   ]
  },
  {
   "cell_type": "code",
   "execution_count": 26,
   "metadata": {},
   "outputs": [
    {
     "name": "stdout",
     "output_type": "stream",
     "text": [
      "[[51. 20. 20.  0. 80.]\n",
      " [52. 30. 40.  0. 80.]\n",
      " [53. 50. 30.  0. 80.]\n",
      " [54. 60. 50.  0. 80.]]\n",
      "[[ 1. 37. 52.  0.  7.]\n",
      " [ 2. 49. 49.  0. 30.]\n",
      " [ 3. 52. 64.  0. 16.]\n",
      " [ 4. 20. 26.  0.  9.]\n",
      " [ 5. 40. 30.  0. 21.]\n",
      " [ 6. 21. 47.  0. 15.]\n",
      " [ 7. 17. 63.  0. 19.]\n",
      " [ 8. 31. 62.  0. 23.]\n",
      " [ 9. 52. 33.  0. 11.]\n",
      " [10. 51. 21.  0.  5.]\n",
      " [11. 42. 41.  0. 19.]\n",
      " [12. 31. 32.  0. 29.]\n",
      " [13.  5. 25.  0. 23.]\n",
      " [14. 12. 42.  0. 21.]\n",
      " [15. 36. 16.  0. 10.]\n",
      " [16. 52. 41.  0. 15.]\n",
      " [17. 27. 23.  0.  3.]\n",
      " [18. 17. 33.  0. 41.]\n",
      " [19. 13. 13.  0.  9.]\n",
      " [20. 57. 58.  0. 28.]\n",
      " [21. 62. 42.  0.  8.]\n",
      " [22. 42. 57.  0.  8.]\n",
      " [23. 16. 57.  0. 16.]\n",
      " [24.  8. 52.  0. 10.]\n",
      " [25.  7. 38.  0. 28.]\n",
      " [26. 27. 68.  0.  7.]\n",
      " [27. 30. 48.  0. 15.]\n",
      " [28. 43. 67.  0. 14.]\n",
      " [29. 58. 48.  0.  6.]\n",
      " [30. 58. 27.  0. 19.]\n",
      " [31. 37. 69.  0. 11.]\n",
      " [32. 38. 46.  0. 12.]\n",
      " [33. 46. 10.  0. 23.]\n",
      " [34. 61. 33.  0. 26.]\n",
      " [35. 62. 63.  0. 17.]\n",
      " [36. 63. 69.  0.  6.]\n",
      " [37. 32. 22.  0.  9.]\n",
      " [38. 45. 35.  0. 15.]\n",
      " [39. 59. 15.  0. 14.]\n",
      " [40.  5.  6.  0.  7.]\n",
      " [41. 10. 17.  0. 27.]\n",
      " [42. 21. 10.  0. 13.]\n",
      " [43.  5. 64.  0. 11.]\n",
      " [44. 30. 15.  0. 16.]\n",
      " [45. 39. 10.  0. 10.]\n",
      " [46. 32. 39.  0.  5.]\n",
      " [47. 25. 32.  0. 25.]\n",
      " [48. 25. 55.  0. 17.]\n",
      " [49. 48. 28.  0. 18.]\n",
      " [50. 56. 37.  0. 10.]]\n"
     ]
    }
   ],
   "source": [
    "\n",
    "print(depotz)\n",
    "print(customerz)"
   ]
  },
  {
   "cell_type": "code",
   "execution_count": 22,
   "metadata": {},
   "outputs": [],
   "source": [
    "np.random.seed(0)"
   ]
  },
  {
   "cell_type": "code",
   "execution_count": 71,
   "metadata": {},
   "outputs": [],
   "source": [
    "class Customer:\n",
    "    def __init__(self,id,x,y,duration,demand):\n",
    "        self.id = id\n",
    "        self.x = x\n",
    "        self.y = y \n",
    "        self.duration = duration\n",
    "        self.demand = demand\n",
    "        \n",
    "            \n",
    "    def __repr__(self):\n",
    "        return \"Client: \" +str(int(self.id)) +\" \"+ str(int(self.x)) +\" \"+ str(int(self.y)) + \" \" + str(int(self.duration)) + \" \" + str(int(self.demand))"
   ]
  },
  {
   "cell_type": "code",
   "execution_count": 72,
   "metadata": {},
   "outputs": [],
   "source": [
    "class Route: #aka chromosome\n",
    "    def __init__(self, ID, depot):\n",
    "        self.id = ID\n",
    "        self.depot = depot #depot assigned to this route\n",
    "        self.customers = list() \n",
    "        self.capacity = 0 #total of the demand\n",
    "        self.ttlDistance = 0 #Ttl distance of the road\n",
    "        \n",
    "    def addDemand(self, d):\n",
    "        self.capacity = self.capacity + d\n",
    "\n",
    "    def addCustomer(self,c):\n",
    "        self.customers.append(c)\n",
    "        #print(str(self.id)+ \" \" +str(self.customers) + str(len(self.customers)))\n",
    "        \n",
    "    #getting total distance/cost of the route\n",
    "    def calculTotalDistance(self):\n",
    "        #print(\"Route:\" + str(self.id)+ \" customers:\" + str(len(self.customers)))\n",
    "        ttl = 0\n",
    "        vTotal = 0\n",
    "        if len(self.customers) == 0:\n",
    "            return 0\n",
    "        first_cust = self.customers[0]\n",
    "        last_cust = self.customers[-1]\n",
    "        #print(first_cust)\n",
    "        #print(last_cust)\n",
    "        #calculating cost between each cust\n",
    "        for c in range(len(self.customers)-1):\n",
    "            #print(\"x: \" +str(self.customers[c].x) +\" y: \" + str(self.customers[c].y))\n",
    "            ttl = ttl + Distance(self.customers[c].x,self.customers[c].y,self.customers[c+1].x,self.customers[c+1].y)\n",
    "            pass\n",
    "        #and between depot at the begining and end of the route since the veh needs to stop where it started\n",
    "        for d in depotz:\n",
    "            #get the right depot\n",
    "            if (d[0]-n)-1 == self.depot:\n",
    "                addtt = 0\n",
    "                addtt = addtt + Distance(first_cust.x, first_cust.y, d[1], d[2])\n",
    "                addtt = addtt + Distance(last_cust.x, last_cust.y, d[1], d[2])\n",
    "                vTotal = ttl + addtt\n",
    "                #print(\"Distance bw cust: \" + str(ttl) + \" Added to beg and end: \" + str(addtt)+ \" Total: \" + str(vTotal))\n",
    "        self.ttlDistance = vTotal\n",
    "        return vTotal\n",
    "        \n",
    "        \n",
    "    def __repr__(self):\n",
    "        return \"Route: \" +str(self.id) +\" \"+ str(self.depot) + \" \" + str(len(self.customers))+ \" Sz:\"+ str(len(self.customers)) + \" C:\" + str(self.capacity) + \" T:\" + str(self.ttlDistance)"
   ]
  },
  {
   "cell_type": "code",
   "execution_count": 229,
   "metadata": {},
   "outputs": [],
   "source": [
    "class Depot:\n",
    "    def __init__(self, id, x, y): \n",
    "        self.id = id\n",
    "        self.x = x\n",
    "        self.y = y\n",
    "        self.customers = list()\n",
    "        self.maxVehicle = m\n",
    "        self.routes = list()\n",
    "        for i in range(self.maxVehicle):\n",
    "            self.routes.append(Route(i, self.id))\n",
    "        \n",
    "    def addCustomer(self,c):\n",
    "        #Selecting which route to assign it to\n",
    "        np.random.randint(0,self.maxVehicle)\n",
    "    \n",
    "    def __repr__(self):\n",
    "        return \"Depot: \" + str(self.id) +\" \"  + str(self.x) +\" \"+ str(self.y) + \" \"+ str(len(self.routes) )"
   ]
  },
  {
   "cell_type": "code",
   "execution_count": null,
   "metadata": {},
   "outputs": [],
   "source": []
  },
  {
   "cell_type": "code",
   "execution_count": 230,
   "metadata": {},
   "outputs": [],
   "source": [
    "def createIndividual():\n",
    "    pass\n",
    "\n",
    "def createSolution():\n",
    "    pass\n",
    "    \n",
    "def makeGeneration(nbSolutions=indivPerGen):\n",
    "    solutions = list()\n",
    "    for i in range(nbSolutions):\n",
    "        solutions.append(createSolution())\n",
    "    return solutions"
   ]
  },
  {
   "cell_type": "code",
   "execution_count": 231,
   "metadata": {},
   "outputs": [],
   "source": [
    "def makeSolution(depots):\n",
    "    for client in clients:\n",
    "        bestDist = 99999\n",
    "        #assigning to closest depot\n",
    "        closestDepot = None\n",
    "        for depot in depots:\n",
    "            distToDepot = Distance(depot.x, depot.y, client.x, client.y)\n",
    "            if distToDepot < bestDist:\n",
    "                bestDist = distToDepot\n",
    "                closestDepot = depot\n",
    "        closestDepot.addCustomer(client)\n",
    "    return depots"
   ]
  },
  {
   "cell_type": "code",
   "execution_count": 232,
   "metadata": {},
   "outputs": [],
   "source": [
    "def mainProg(epochs=1, indivPerGen=1):\n",
    "    depots = list()\n",
    "    clients = list()\n",
    "    individuals = list()\n",
    "    for depot in depotz:\n",
    "        depots.append(Depot(depot[0], depot[1], depot[2])) \n",
    "    print(depots)\n",
    "    for client in customerz:\n",
    "        clients.append(Customer(client[0], client[1], client[2], client[3], client[4]))\n",
    "    print(clients)\n",
    "\n",
    "    \n",
    "    #Epoch is a generation\n",
    "    #First generation\n",
    "    for ipg in range(indivPerGen):\n",
    "        individuals.append(makeSolution(depots))\n",
    "    print(individuals)\n",
    "    \"\"\"print(len(depots[0].customers))\n",
    "    print(len(depots[1].customers))\n",
    "    print(len(depots[2].customers))\n",
    "    print(len(depots[3].customers))\"\"\"\n",
    "    #earch generation\n",
    "    for epoch in range(epochs):\n",
    "        print(\"Generation: {}\".format(epoch))\n",
    "            \n",
    "                \n",
    "        \n",
    "        "
   ]
  },
  {
   "cell_type": "code",
   "execution_count": 233,
   "metadata": {},
   "outputs": [
    {
     "name": "stdout",
     "output_type": "stream",
     "text": [
      "[Depot: 51.0 20.0 20.0 4, Depot: 52.0 30.0 40.0 4, Depot: 53.0 50.0 30.0 4, Depot: 54.0 60.0 50.0 4]\n",
      "[Client: 1 37 52 0 7, Client: 2 49 49 0 30, Client: 3 52 64 0 16, Client: 4 20 26 0 9, Client: 5 40 30 0 21, Client: 6 21 47 0 15, Client: 7 17 63 0 19, Client: 8 31 62 0 23, Client: 9 52 33 0 11, Client: 10 51 21 0 5, Client: 11 42 41 0 19, Client: 12 31 32 0 29, Client: 13 5 25 0 23, Client: 14 12 42 0 21, Client: 15 36 16 0 10, Client: 16 52 41 0 15, Client: 17 27 23 0 3, Client: 18 17 33 0 41, Client: 19 13 13 0 9, Client: 20 57 58 0 28, Client: 21 62 42 0 8, Client: 22 42 57 0 8, Client: 23 16 57 0 16, Client: 24 8 52 0 10, Client: 25 7 38 0 28, Client: 26 27 68 0 7, Client: 27 30 48 0 15, Client: 28 43 67 0 14, Client: 29 58 48 0 6, Client: 30 58 27 0 19, Client: 31 37 69 0 11, Client: 32 38 46 0 12, Client: 33 46 10 0 23, Client: 34 61 33 0 26, Client: 35 62 63 0 17, Client: 36 63 69 0 6, Client: 37 32 22 0 9, Client: 38 45 35 0 15, Client: 39 59 15 0 14, Client: 40 5 6 0 7, Client: 41 10 17 0 27, Client: 42 21 10 0 13, Client: 43 5 64 0 11, Client: 44 30 15 0 16, Client: 45 39 10 0 10, Client: 46 32 39 0 5, Client: 47 25 32 0 25, Client: 48 25 55 0 17, Client: 49 48 28 0 18, Client: 50 56 37 0 10]\n",
      "[[Depot: 51.0 20.0 20.0 4, Depot: 52.0 30.0 40.0 4, Depot: 53.0 50.0 30.0 4, Depot: 54.0 60.0 50.0 4]]\n",
      "Generation: 0\n"
     ]
    }
   ],
   "source": [
    "mainProg()"
   ]
  },
  {
   "cell_type": "code",
   "execution_count": null,
   "metadata": {},
   "outputs": [],
   "source": []
  },
  {
   "cell_type": "code",
   "execution_count": null,
   "metadata": {},
   "outputs": [],
   "source": []
  }
 ],
 "metadata": {
  "kernelspec": {
   "display_name": "Python 3",
   "language": "python",
   "name": "python3"
  },
  "language_info": {
   "codemirror_mode": {
    "name": "ipython",
    "version": 3
   },
   "file_extension": ".py",
   "mimetype": "text/x-python",
   "name": "python",
   "nbconvert_exporter": "python",
   "pygments_lexer": "ipython3",
   "version": "3.8.1"
  }
 },
 "nbformat": 4,
 "nbformat_minor": 4
}
